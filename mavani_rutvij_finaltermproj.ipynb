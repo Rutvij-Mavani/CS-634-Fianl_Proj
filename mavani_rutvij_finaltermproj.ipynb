{
 "cells": [
  {
   "cell_type": "code",
   "execution_count": 96,
   "metadata": {},
   "outputs": [],
   "source": [
    "import numpy as np\n",
    "import pandas as pd\n",
    "import tensorflow as tf\n",
    "from tensorflow import keras\n",
    "from tensorflow.keras import layers"
   ]
  },
  {
   "cell_type": "code",
   "execution_count": 97,
   "metadata": {},
   "outputs": [],
   "source": [
    "data=pd.read_csv('titanic.csv')"
   ]
  },
  {
   "cell_type": "code",
   "execution_count": 98,
   "metadata": {},
   "outputs": [
    {
     "data": {
      "text/html": [
       "<div>\n",
       "<style scoped>\n",
       "    .dataframe tbody tr th:only-of-type {\n",
       "        vertical-align: middle;\n",
       "    }\n",
       "\n",
       "    .dataframe tbody tr th {\n",
       "        vertical-align: top;\n",
       "    }\n",
       "\n",
       "    .dataframe thead th {\n",
       "        text-align: right;\n",
       "    }\n",
       "</style>\n",
       "<table border=\"1\" class=\"dataframe\">\n",
       "  <thead>\n",
       "    <tr style=\"text-align: right;\">\n",
       "      <th></th>\n",
       "      <th>PassengerId</th>\n",
       "      <th>Survived</th>\n",
       "      <th>Pclass</th>\n",
       "      <th>Name</th>\n",
       "      <th>Sex</th>\n",
       "      <th>Age</th>\n",
       "      <th>SibSp</th>\n",
       "      <th>Parch</th>\n",
       "      <th>Ticket</th>\n",
       "      <th>Fare</th>\n",
       "      <th>Cabin</th>\n",
       "      <th>Embarked</th>\n",
       "    </tr>\n",
       "  </thead>\n",
       "  <tbody>\n",
       "    <tr>\n",
       "      <td>0</td>\n",
       "      <td>1</td>\n",
       "      <td>0</td>\n",
       "      <td>3</td>\n",
       "      <td>Braund, Mr. Owen Harris</td>\n",
       "      <td>male</td>\n",
       "      <td>22.0</td>\n",
       "      <td>1</td>\n",
       "      <td>0</td>\n",
       "      <td>A/5 21171</td>\n",
       "      <td>7.2500</td>\n",
       "      <td>NaN</td>\n",
       "      <td>S</td>\n",
       "    </tr>\n",
       "    <tr>\n",
       "      <td>1</td>\n",
       "      <td>2</td>\n",
       "      <td>1</td>\n",
       "      <td>1</td>\n",
       "      <td>Cumings, Mrs. John Bradley (Florence Briggs Th...</td>\n",
       "      <td>female</td>\n",
       "      <td>38.0</td>\n",
       "      <td>1</td>\n",
       "      <td>0</td>\n",
       "      <td>PC 17599</td>\n",
       "      <td>71.2833</td>\n",
       "      <td>C85</td>\n",
       "      <td>C</td>\n",
       "    </tr>\n",
       "    <tr>\n",
       "      <td>2</td>\n",
       "      <td>3</td>\n",
       "      <td>1</td>\n",
       "      <td>3</td>\n",
       "      <td>Heikkinen, Miss. Laina</td>\n",
       "      <td>female</td>\n",
       "      <td>26.0</td>\n",
       "      <td>0</td>\n",
       "      <td>0</td>\n",
       "      <td>STON/O2. 3101282</td>\n",
       "      <td>7.9250</td>\n",
       "      <td>NaN</td>\n",
       "      <td>S</td>\n",
       "    </tr>\n",
       "    <tr>\n",
       "      <td>3</td>\n",
       "      <td>4</td>\n",
       "      <td>1</td>\n",
       "      <td>1</td>\n",
       "      <td>Futrelle, Mrs. Jacques Heath (Lily May Peel)</td>\n",
       "      <td>female</td>\n",
       "      <td>35.0</td>\n",
       "      <td>1</td>\n",
       "      <td>0</td>\n",
       "      <td>113803</td>\n",
       "      <td>53.1000</td>\n",
       "      <td>C123</td>\n",
       "      <td>S</td>\n",
       "    </tr>\n",
       "    <tr>\n",
       "      <td>4</td>\n",
       "      <td>5</td>\n",
       "      <td>0</td>\n",
       "      <td>3</td>\n",
       "      <td>Allen, Mr. William Henry</td>\n",
       "      <td>male</td>\n",
       "      <td>35.0</td>\n",
       "      <td>0</td>\n",
       "      <td>0</td>\n",
       "      <td>373450</td>\n",
       "      <td>8.0500</td>\n",
       "      <td>NaN</td>\n",
       "      <td>S</td>\n",
       "    </tr>\n",
       "  </tbody>\n",
       "</table>\n",
       "</div>"
      ],
      "text/plain": [
       "   PassengerId  Survived  Pclass  \\\n",
       "0            1         0       3   \n",
       "1            2         1       1   \n",
       "2            3         1       3   \n",
       "3            4         1       1   \n",
       "4            5         0       3   \n",
       "\n",
       "                                                Name     Sex   Age  SibSp  \\\n",
       "0                            Braund, Mr. Owen Harris    male  22.0      1   \n",
       "1  Cumings, Mrs. John Bradley (Florence Briggs Th...  female  38.0      1   \n",
       "2                             Heikkinen, Miss. Laina  female  26.0      0   \n",
       "3       Futrelle, Mrs. Jacques Heath (Lily May Peel)  female  35.0      1   \n",
       "4                           Allen, Mr. William Henry    male  35.0      0   \n",
       "\n",
       "   Parch            Ticket     Fare Cabin Embarked  \n",
       "0      0         A/5 21171   7.2500   NaN        S  \n",
       "1      0          PC 17599  71.2833   C85        C  \n",
       "2      0  STON/O2. 3101282   7.9250   NaN        S  \n",
       "3      0            113803  53.1000  C123        S  \n",
       "4      0            373450   8.0500   NaN        S  "
      ]
     },
     "execution_count": 98,
     "metadata": {},
     "output_type": "execute_result"
    }
   ],
   "source": [
    "data.head()"
   ]
  },
  {
   "cell_type": "code",
   "execution_count": 99,
   "metadata": {},
   "outputs": [
    {
     "name": "stdout",
     "output_type": "stream",
     "text": [
      "<class 'pandas.core.frame.DataFrame'>\n",
      "RangeIndex: 891 entries, 0 to 890\n",
      "Data columns (total 12 columns):\n",
      "PassengerId    891 non-null int64\n",
      "Survived       891 non-null int64\n",
      "Pclass         891 non-null int64\n",
      "Name           891 non-null object\n",
      "Sex            891 non-null object\n",
      "Age            714 non-null float64\n",
      "SibSp          891 non-null int64\n",
      "Parch          891 non-null int64\n",
      "Ticket         891 non-null object\n",
      "Fare           891 non-null float64\n",
      "Cabin          204 non-null object\n",
      "Embarked       889 non-null object\n",
      "dtypes: float64(2), int64(5), object(5)\n",
      "memory usage: 83.7+ KB\n"
     ]
    }
   ],
   "source": [
    "data.info()"
   ]
  },
  {
   "cell_type": "code",
   "execution_count": 100,
   "metadata": {},
   "outputs": [
    {
     "data": {
      "text/html": [
       "<div>\n",
       "<style scoped>\n",
       "    .dataframe tbody tr th:only-of-type {\n",
       "        vertical-align: middle;\n",
       "    }\n",
       "\n",
       "    .dataframe tbody tr th {\n",
       "        vertical-align: top;\n",
       "    }\n",
       "\n",
       "    .dataframe thead th {\n",
       "        text-align: right;\n",
       "    }\n",
       "</style>\n",
       "<table border=\"1\" class=\"dataframe\">\n",
       "  <thead>\n",
       "    <tr style=\"text-align: right;\">\n",
       "      <th></th>\n",
       "      <th>PassengerId</th>\n",
       "      <th>Survived</th>\n",
       "      <th>Pclass</th>\n",
       "      <th>Age</th>\n",
       "      <th>SibSp</th>\n",
       "      <th>Parch</th>\n",
       "      <th>Fare</th>\n",
       "    </tr>\n",
       "  </thead>\n",
       "  <tbody>\n",
       "    <tr>\n",
       "      <td>count</td>\n",
       "      <td>891.000000</td>\n",
       "      <td>891.000000</td>\n",
       "      <td>891.000000</td>\n",
       "      <td>714.000000</td>\n",
       "      <td>891.000000</td>\n",
       "      <td>891.000000</td>\n",
       "      <td>891.000000</td>\n",
       "    </tr>\n",
       "    <tr>\n",
       "      <td>mean</td>\n",
       "      <td>446.000000</td>\n",
       "      <td>0.383838</td>\n",
       "      <td>2.308642</td>\n",
       "      <td>29.699118</td>\n",
       "      <td>0.523008</td>\n",
       "      <td>0.381594</td>\n",
       "      <td>32.204208</td>\n",
       "    </tr>\n",
       "    <tr>\n",
       "      <td>std</td>\n",
       "      <td>257.353842</td>\n",
       "      <td>0.486592</td>\n",
       "      <td>0.836071</td>\n",
       "      <td>14.526497</td>\n",
       "      <td>1.102743</td>\n",
       "      <td>0.806057</td>\n",
       "      <td>49.693429</td>\n",
       "    </tr>\n",
       "    <tr>\n",
       "      <td>min</td>\n",
       "      <td>1.000000</td>\n",
       "      <td>0.000000</td>\n",
       "      <td>1.000000</td>\n",
       "      <td>0.420000</td>\n",
       "      <td>0.000000</td>\n",
       "      <td>0.000000</td>\n",
       "      <td>0.000000</td>\n",
       "    </tr>\n",
       "    <tr>\n",
       "      <td>25%</td>\n",
       "      <td>223.500000</td>\n",
       "      <td>0.000000</td>\n",
       "      <td>2.000000</td>\n",
       "      <td>20.125000</td>\n",
       "      <td>0.000000</td>\n",
       "      <td>0.000000</td>\n",
       "      <td>7.910400</td>\n",
       "    </tr>\n",
       "    <tr>\n",
       "      <td>50%</td>\n",
       "      <td>446.000000</td>\n",
       "      <td>0.000000</td>\n",
       "      <td>3.000000</td>\n",
       "      <td>28.000000</td>\n",
       "      <td>0.000000</td>\n",
       "      <td>0.000000</td>\n",
       "      <td>14.454200</td>\n",
       "    </tr>\n",
       "    <tr>\n",
       "      <td>75%</td>\n",
       "      <td>668.500000</td>\n",
       "      <td>1.000000</td>\n",
       "      <td>3.000000</td>\n",
       "      <td>38.000000</td>\n",
       "      <td>1.000000</td>\n",
       "      <td>0.000000</td>\n",
       "      <td>31.000000</td>\n",
       "    </tr>\n",
       "    <tr>\n",
       "      <td>max</td>\n",
       "      <td>891.000000</td>\n",
       "      <td>1.000000</td>\n",
       "      <td>3.000000</td>\n",
       "      <td>80.000000</td>\n",
       "      <td>8.000000</td>\n",
       "      <td>6.000000</td>\n",
       "      <td>512.329200</td>\n",
       "    </tr>\n",
       "  </tbody>\n",
       "</table>\n",
       "</div>"
      ],
      "text/plain": [
       "       PassengerId    Survived      Pclass         Age       SibSp  \\\n",
       "count   891.000000  891.000000  891.000000  714.000000  891.000000   \n",
       "mean    446.000000    0.383838    2.308642   29.699118    0.523008   \n",
       "std     257.353842    0.486592    0.836071   14.526497    1.102743   \n",
       "min       1.000000    0.000000    1.000000    0.420000    0.000000   \n",
       "25%     223.500000    0.000000    2.000000   20.125000    0.000000   \n",
       "50%     446.000000    0.000000    3.000000   28.000000    0.000000   \n",
       "75%     668.500000    1.000000    3.000000   38.000000    1.000000   \n",
       "max     891.000000    1.000000    3.000000   80.000000    8.000000   \n",
       "\n",
       "            Parch        Fare  \n",
       "count  891.000000  891.000000  \n",
       "mean     0.381594   32.204208  \n",
       "std      0.806057   49.693429  \n",
       "min      0.000000    0.000000  \n",
       "25%      0.000000    7.910400  \n",
       "50%      0.000000   14.454200  \n",
       "75%      0.000000   31.000000  \n",
       "max      6.000000  512.329200  "
      ]
     },
     "execution_count": 100,
     "metadata": {},
     "output_type": "execute_result"
    }
   ],
   "source": [
    "data.describe()"
   ]
  },
  {
   "cell_type": "code",
   "execution_count": 101,
   "metadata": {},
   "outputs": [],
   "source": [
    "x=data.drop(['Cabin','Survived'],axis=1)\n",
    "y=data['Survived'].copy()"
   ]
  },
  {
   "cell_type": "code",
   "execution_count": 102,
   "metadata": {},
   "outputs": [
    {
     "data": {
      "text/html": [
       "<div>\n",
       "<style scoped>\n",
       "    .dataframe tbody tr th:only-of-type {\n",
       "        vertical-align: middle;\n",
       "    }\n",
       "\n",
       "    .dataframe tbody tr th {\n",
       "        vertical-align: top;\n",
       "    }\n",
       "\n",
       "    .dataframe thead th {\n",
       "        text-align: right;\n",
       "    }\n",
       "</style>\n",
       "<table border=\"1\" class=\"dataframe\">\n",
       "  <thead>\n",
       "    <tr style=\"text-align: right;\">\n",
       "      <th></th>\n",
       "      <th>PassengerId</th>\n",
       "      <th>Pclass</th>\n",
       "      <th>Name</th>\n",
       "      <th>Sex</th>\n",
       "      <th>Age</th>\n",
       "      <th>SibSp</th>\n",
       "      <th>Parch</th>\n",
       "      <th>Ticket</th>\n",
       "      <th>Fare</th>\n",
       "      <th>Embarked</th>\n",
       "    </tr>\n",
       "  </thead>\n",
       "  <tbody>\n",
       "    <tr>\n",
       "      <td>0</td>\n",
       "      <td>1</td>\n",
       "      <td>3</td>\n",
       "      <td>Braund, Mr. Owen Harris</td>\n",
       "      <td>male</td>\n",
       "      <td>22.0</td>\n",
       "      <td>1</td>\n",
       "      <td>0</td>\n",
       "      <td>A/5 21171</td>\n",
       "      <td>7.2500</td>\n",
       "      <td>S</td>\n",
       "    </tr>\n",
       "    <tr>\n",
       "      <td>1</td>\n",
       "      <td>2</td>\n",
       "      <td>1</td>\n",
       "      <td>Cumings, Mrs. John Bradley (Florence Briggs Th...</td>\n",
       "      <td>female</td>\n",
       "      <td>38.0</td>\n",
       "      <td>1</td>\n",
       "      <td>0</td>\n",
       "      <td>PC 17599</td>\n",
       "      <td>71.2833</td>\n",
       "      <td>C</td>\n",
       "    </tr>\n",
       "    <tr>\n",
       "      <td>2</td>\n",
       "      <td>3</td>\n",
       "      <td>3</td>\n",
       "      <td>Heikkinen, Miss. Laina</td>\n",
       "      <td>female</td>\n",
       "      <td>26.0</td>\n",
       "      <td>0</td>\n",
       "      <td>0</td>\n",
       "      <td>STON/O2. 3101282</td>\n",
       "      <td>7.9250</td>\n",
       "      <td>S</td>\n",
       "    </tr>\n",
       "    <tr>\n",
       "      <td>3</td>\n",
       "      <td>4</td>\n",
       "      <td>1</td>\n",
       "      <td>Futrelle, Mrs. Jacques Heath (Lily May Peel)</td>\n",
       "      <td>female</td>\n",
       "      <td>35.0</td>\n",
       "      <td>1</td>\n",
       "      <td>0</td>\n",
       "      <td>113803</td>\n",
       "      <td>53.1000</td>\n",
       "      <td>S</td>\n",
       "    </tr>\n",
       "    <tr>\n",
       "      <td>4</td>\n",
       "      <td>5</td>\n",
       "      <td>3</td>\n",
       "      <td>Allen, Mr. William Henry</td>\n",
       "      <td>male</td>\n",
       "      <td>35.0</td>\n",
       "      <td>0</td>\n",
       "      <td>0</td>\n",
       "      <td>373450</td>\n",
       "      <td>8.0500</td>\n",
       "      <td>S</td>\n",
       "    </tr>\n",
       "  </tbody>\n",
       "</table>\n",
       "</div>"
      ],
      "text/plain": [
       "   PassengerId  Pclass                                               Name  \\\n",
       "0            1       3                            Braund, Mr. Owen Harris   \n",
       "1            2       1  Cumings, Mrs. John Bradley (Florence Briggs Th...   \n",
       "2            3       3                             Heikkinen, Miss. Laina   \n",
       "3            4       1       Futrelle, Mrs. Jacques Heath (Lily May Peel)   \n",
       "4            5       3                           Allen, Mr. William Henry   \n",
       "\n",
       "      Sex   Age  SibSp  Parch            Ticket     Fare Embarked  \n",
       "0    male  22.0      1      0         A/5 21171   7.2500        S  \n",
       "1  female  38.0      1      0          PC 17599  71.2833        C  \n",
       "2  female  26.0      0      0  STON/O2. 3101282   7.9250        S  \n",
       "3  female  35.0      1      0            113803  53.1000        S  \n",
       "4    male  35.0      0      0            373450   8.0500        S  "
      ]
     },
     "execution_count": 102,
     "metadata": {},
     "output_type": "execute_result"
    }
   ],
   "source": [
    "x.head()"
   ]
  },
  {
   "cell_type": "code",
   "execution_count": 103,
   "metadata": {},
   "outputs": [
    {
     "data": {
      "text/plain": [
       "0    0\n",
       "1    1\n",
       "2    1\n",
       "3    1\n",
       "4    0\n",
       "Name: Survived, dtype: int64"
      ]
     },
     "execution_count": 103,
     "metadata": {},
     "output_type": "execute_result"
    }
   ],
   "source": [
    "y.head()"
   ]
  },
  {
   "cell_type": "code",
   "execution_count": 104,
   "metadata": {},
   "outputs": [],
   "source": [
    "x[\"Age\"]=x[\"Age\"].fillna(x[\"Age\"].mean())"
   ]
  },
  {
   "cell_type": "code",
   "execution_count": 105,
   "metadata": {},
   "outputs": [],
   "source": [
    "x[\"Embarked\"]=x[\"Embarked\"].fillna(x[\"Embarked\"].mode()[0])"
   ]
  },
  {
   "cell_type": "code",
   "execution_count": 106,
   "metadata": {},
   "outputs": [
    {
     "name": "stdout",
     "output_type": "stream",
     "text": [
      "<class 'pandas.core.frame.DataFrame'>\n",
      "RangeIndex: 891 entries, 0 to 890\n",
      "Data columns (total 10 columns):\n",
      "PassengerId    891 non-null int64\n",
      "Pclass         891 non-null int64\n",
      "Name           891 non-null object\n",
      "Sex            891 non-null object\n",
      "Age            891 non-null float64\n",
      "SibSp          891 non-null int64\n",
      "Parch          891 non-null int64\n",
      "Ticket         891 non-null object\n",
      "Fare           891 non-null float64\n",
      "Embarked       891 non-null object\n",
      "dtypes: float64(2), int64(4), object(4)\n",
      "memory usage: 69.7+ KB\n"
     ]
    }
   ],
   "source": [
    "x.info()"
   ]
  },
  {
   "cell_type": "code",
   "execution_count": 107,
   "metadata": {},
   "outputs": [
    {
     "data": {
      "text/plain": [
       "(891, 10)"
      ]
     },
     "execution_count": 107,
     "metadata": {},
     "output_type": "execute_result"
    }
   ],
   "source": [
    "from sklearn import preprocessing\n",
    "#encoding categorical data\n",
    "num_cols = x._get_numeric_data().columns\n",
    "cols=x.columns\n",
    "cat_cols=list(set(cols) - set(num_cols))\n",
    "\n",
    "for col in cat_cols:\n",
    "    le = preprocessing.LabelEncoder()\n",
    "    x[col] = le.fit_transform(x[col])\n",
    "x.shape"
   ]
  },
  {
   "cell_type": "code",
   "execution_count": 108,
   "metadata": {},
   "outputs": [],
   "source": [
    "from sklearn.model_selection import train_test_split\n",
    "x_train, x_test, y_train, y_test = train_test_split(x, y, test_size = 0.20, random_state = 0)"
   ]
  },
  {
   "cell_type": "code",
   "execution_count": 109,
   "metadata": {},
   "outputs": [],
   "source": [
    "from sklearn.preprocessing import StandardScaler\n",
    "sc = StandardScaler()\n",
    "x_train = sc.fit_transform(x_train)\n",
    "x_test = sc.transform(x_test)"
   ]
  },
  {
   "cell_type": "code",
   "execution_count": 110,
   "metadata": {},
   "outputs": [
    {
     "data": {
      "text/plain": [
       "RandomForestClassifier(bootstrap=True, class_weight=None, criterion='entropy',\n",
       "                       max_depth=None, max_features='auto', max_leaf_nodes=None,\n",
       "                       min_impurity_decrease=0.0, min_impurity_split=None,\n",
       "                       min_samples_leaf=1, min_samples_split=2,\n",
       "                       min_weight_fraction_leaf=0.0, n_estimators=10,\n",
       "                       n_jobs=None, oob_score=False, random_state=0, verbose=0,\n",
       "                       warm_start=False)"
      ]
     },
     "execution_count": 110,
     "metadata": {},
     "output_type": "execute_result"
    }
   ],
   "source": [
    "from sklearn.ensemble import RandomForestClassifier\n",
    "rndm_frst=RandomForestClassifier(n_estimators=10,criterion='entropy',random_state=0)\n",
    "rndm_frst.fit(x_train,y_train)"
   ]
  },
  {
   "cell_type": "code",
   "execution_count": 111,
   "metadata": {},
   "outputs": [],
   "source": [
    "y_rndm = rndm_frst.predict(x_test)"
   ]
  },
  {
   "cell_type": "code",
   "execution_count": 112,
   "metadata": {},
   "outputs": [
    {
     "name": "stdout",
     "output_type": "stream",
     "text": [
      "[[101   9]\n",
      " [ 17  52]]\n"
     ]
    }
   ],
   "source": [
    "from sklearn.metrics import confusion_matrix\n",
    "cm = confusion_matrix(y_test, y_rndm)\n",
    "print(cm)"
   ]
  },
  {
   "cell_type": "code",
   "execution_count": 113,
   "metadata": {},
   "outputs": [],
   "source": [
    "from sklearn.model_selection import KFold, cross_validate, cross_val_predict\n",
    "from sklearn.metrics import confusion_matrix,make_scorer\n",
    "\n",
    "def tn(y_test,y_rndm): return confusion_matrix(y_test,y_rndm)[0,0]\n",
    "def fp(y_test,y_rndm): return confusion_matrix(y_test,y_rndm)[0,1]\n",
    "def fn(y_test,y_rndm): return confusion_matrix(y_test,y_rndm)[1,0]\n",
    "def tp(y_test,y_rndm): return confusion_matrix(y_test,y_rndm)[1,1]\n",
    "def tpr(y_test,y_rndm): \n",
    "    no_tp = confusion_matrix(y_test,y_rndm)[1,1]\n",
    "    no_fn = confusion_matrix(y_test,y_rndm)[1,0]\n",
    "    return round((no_tp / (no_tp + no_fn)),2)\n",
    "\n",
    "def tnr(y_test,y_rndm): \n",
    "    no_tn = confusion_matrix(y_test,y_rndm)[0,0]\n",
    "    no_fp = confusion_matrix(y_test,y_rndm)[0,1]\n",
    "   \n",
    "    return round((no_tn / (no_tn + no_fp)),2)\n",
    "\n",
    "def fpr(y_test,y_rndm): \n",
    "    no_tn = confusion_matrix(y_test,y_rndm)[0,0]\n",
    "    no_fp = confusion_matrix(y_test,y_rndm)[0,1]\n",
    "    \n",
    "    return round((no_fp / (no_tn + no_fp)),2)\n",
    "\n",
    "def fnr(y_test,y_rndm): \n",
    "    no_tp = confusion_matrix(y_test,y_rndm)[1,1]\n",
    "    no_fn = confusion_matrix(y_test,y_rndm)[1,0]\n",
    "    return round((no_fn / (no_tp + no_fn)),2)\n",
    "def Recall(y_test,y_rndm):\n",
    "    no_tp = confusion_matrix(y_test,y_rndm)[1,1]\n",
    "    no_fn = confusion_matrix(y_test,y_rndm)[1,0]\n",
    "    return round((no_tp / (no_tp + no_fn)),2)\n",
    "def Precision(y_test,y_rndm):\n",
    "    no_tp = confusion_matrix(y_test,y_rndm)[1,1]\n",
    "    no_fp = confusion_matrix(y_test,y_rndm)[0,1]\n",
    "    return round((no_tp / (no_tp + no_fp)),2)\n",
    "\n",
    "def F1Score(y_test,y_rndm):\n",
    "    no_tp = confusion_matrix(y_test,y_rndm)[1,1]\n",
    "    no_fp = confusion_matrix(y_test,y_rndm)[0,1]\n",
    "    no_fn = confusion_matrix(y_test,y_rndm)[1,0]\n",
    "    return round(((2*no_tp) / ((2*no_tp) + no_fp+no_fn)),2)\n",
    "\n",
    "def Accuracy(y_test,y_rndm):\n",
    "    no_tn = confusion_matrix(y_test,y_rndm)[0,0]\n",
    "    no_fp = confusion_matrix(y_test,y_rndm)[0,1]\n",
    "    no_tp = confusion_matrix(y_test,y_rndm)[1,1]\n",
    "    no_fn = confusion_matrix(y_test,y_rndm)[1,0]\n",
    "    return round(((no_tp + no_tn) / (no_tp + no_fp + no_fn + no_tn)),2)\n",
    "\n",
    "def Error(y_test,y_rndm):\n",
    "    no_tn = confusion_matrix(y_test,y_rndm)[0,0]\n",
    "    no_fp = confusion_matrix(y_test,y_rndm)[0,1]\n",
    "    no_tp = confusion_matrix(y_test,y_rndm)[1,1]\n",
    "    no_fn = confusion_matrix(y_test,y_rndm)[1,0]\n",
    "    return round(((no_fp + no_fn) / (no_tp + no_fp + no_fn + no_tn)),2)\n",
    "def BACC(y_test,y_rndm):\n",
    "    no_tn = confusion_matrix(y_test,y_rndm)[0,0]\n",
    "    no_fp = confusion_matrix(y_test,y_rndm)[0,1]\n",
    "    no_tp = confusion_matrix(y_test,y_rndm)[1,1]\n",
    "    no_fn = confusion_matrix(y_test,y_rndm)[1,0]\n",
    "    return round(0.5*((no_tp / (no_tp + no_fn))+(no_tn / (no_fp + no_tn))),2)\n",
    "\n",
    "def TSS(y_test,y_rndm):\n",
    "    no_tn = confusion_matrix(y_test,y_rndm)[0,0]\n",
    "    no_fp = confusion_matrix(y_test,y_rndm)[0,1]\n",
    "    no_tp = confusion_matrix(y_test,y_rndm)[1,1]\n",
    "    no_fn = confusion_matrix(y_test,y_rndm)[1,0]\n",
    "    return round((no_tp / (no_tp + no_fn))-(no_fp / (no_fp + no_tn)),2)\n",
    "\n",
    "def HSS(y_test,y_rndm):\n",
    "    no_tn = confusion_matrix(y_test,y_rndm)[0,0]\n",
    "    no_fp = confusion_matrix(y_test,y_rndm)[0,1]\n",
    "    no_tp = confusion_matrix(y_test,y_rndm)[1,1]\n",
    "    no_fn = confusion_matrix(y_test,y_rndm)[1,0]\n",
    "    return round((2*((no_tp * no_tn)-(no_fp * no_fn)))/(((no_tp + no_fn)*(no_fn + no_tn))+((no_tp + no_fp)*(no_fp + no_tn))),2)\n",
    "\n",
    "    \n",
    "\n",
    "#def tpr(ans_tp,ans_fn): return ans_tp/(ans_tp+ans_fn)\n",
    "scoring = {'tp': make_scorer(tp),'tn': make_scorer(tn),'fp': make_scorer(fp),'fn': make_scorer(fn),'tpr': make_scorer(tpr),\n",
    "           'tnr':make_scorer(tnr),'fpr':make_scorer(fpr),'fnr':make_scorer(fnr),'recall':make_scorer(Recall),\n",
    "           'precision':make_scorer(Precision),'F1Score':make_scorer(F1Score),\n",
    "           'Accuracy':make_scorer(Accuracy),'Error':make_scorer(Error),'BACC':make_scorer(BACC),'TSS':make_scorer(TSS),\n",
    "           'HSS':make_scorer(HSS)}"
   ]
  },
  {
   "cell_type": "code",
   "execution_count": 114,
   "metadata": {},
   "outputs": [],
   "source": [
    "cv = KFold(n_splits=10,random_state=1,shuffle=False)\n",
    "scores = cross_validate(rndm_frst,x_train,y_train,scoring = scoring,cv=cv)"
   ]
  },
  {
   "cell_type": "code",
   "execution_count": 115,
   "metadata": {},
   "outputs": [
    {
     "name": "stdout",
     "output_type": "stream",
     "text": [
      "{'fit_time': array([0.0245223 , 0.01494789, 0.03021932, 0.01559067, 0.02217698,\n",
      "       0.01565719, 0.02150559, 0.01595998, 0.00701976, 0.02134228]), 'score_time': array([0.03459859, 0.03125405, 0.03129125, 0.03125501, 0.03125501,\n",
      "       0.03122282, 0.04016352, 0.0367136 , 0.03125501, 0.04054475]), 'test_tp': array([17, 14, 21, 15, 20, 18, 19, 17, 21, 21]), 'test_tn': array([42, 39, 40, 45, 41, 36, 37, 42, 39, 32]), 'test_fp': array([3, 6, 6, 5, 5, 9, 5, 0, 4, 3]), 'test_fn': array([10, 13,  4,  6,  5,  8, 10, 12,  7, 15]), 'test_tpr': array([0.63, 0.52, 0.84, 0.71, 0.8 , 0.69, 0.66, 0.59, 0.75, 0.58]), 'test_tnr': array([0.93, 0.87, 0.87, 0.9 , 0.89, 0.8 , 0.88, 1.  , 0.91, 0.91]), 'test_fpr': array([0.07, 0.13, 0.13, 0.1 , 0.11, 0.2 , 0.12, 0.  , 0.09, 0.09]), 'test_fnr': array([0.37, 0.48, 0.16, 0.29, 0.2 , 0.31, 0.34, 0.41, 0.25, 0.42]), 'test_recall': array([0.63, 0.52, 0.84, 0.71, 0.8 , 0.69, 0.66, 0.59, 0.75, 0.58]), 'test_precision': array([0.85, 0.7 , 0.78, 0.75, 0.8 , 0.67, 0.79, 1.  , 0.84, 0.88]), 'test_F1Score': array([0.72, 0.6 , 0.81, 0.73, 0.8 , 0.68, 0.72, 0.74, 0.79, 0.7 ]), 'test_Accuracy': array([0.82, 0.74, 0.86, 0.85, 0.86, 0.76, 0.79, 0.83, 0.85, 0.75]), 'test_Error': array([0.18, 0.26, 0.14, 0.15, 0.14, 0.24, 0.21, 0.17, 0.15, 0.25]), 'test_BACC': array([0.78, 0.69, 0.85, 0.81, 0.85, 0.75, 0.77, 0.79, 0.83, 0.75]), 'test_TSS': array([0.56, 0.39, 0.71, 0.61, 0.69, 0.49, 0.54, 0.59, 0.66, 0.5 ]), 'test_HSS': array([0.59, 0.41, 0.7 , 0.62, 0.69, 0.49, 0.55, 0.63, 0.67, 0.5 ])}\n"
     ]
    }
   ],
   "source": [
    "print(scores)"
   ]
  },
  {
   "cell_type": "code",
   "execution_count": 116,
   "metadata": {},
   "outputs": [],
   "source": [
    "column = ['Fold 1','Fold 2','Fold 3','Fold 4','Fold 5','Fold 6','Fold 7','Fold 8','Fold 9','Fold 10','Average']\n",
    "row = ['TP','TN','FP','FN','TPR','TNR','FPR','FNR','Recall','Precision','F1 Score','Accuracy','Error','BACC','TSS','HSS']\n",
    " \n",
    "\n",
    "data_rf = [value for value in scores.values()]\n",
    "data_rf = data_rf[2:]"
   ]
  },
  {
   "cell_type": "code",
   "execution_count": 117,
   "metadata": {},
   "outputs": [
    {
     "name": "stdout",
     "output_type": "stream",
     "text": [
      "[[17, 14, 21, 15, 20, 18, 19, 17, 21, 21, 18.3], [42, 39, 40, 45, 41, 36, 37, 42, 39, 32, 39.3], [3, 6, 6, 5, 5, 9, 5, 0, 4, 3, 4.6], [10, 13, 4, 6, 5, 8, 10, 12, 7, 15, 9.0], [0.63, 0.52, 0.84, 0.71, 0.8, 0.69, 0.66, 0.59, 0.75, 0.58, 0.68], [0.93, 0.87, 0.87, 0.9, 0.89, 0.8, 0.88, 1.0, 0.91, 0.91, 0.9], [0.07, 0.13, 0.13, 0.1, 0.11, 0.2, 0.12, 0.0, 0.09, 0.09, 0.1], [0.37, 0.48, 0.16, 0.29, 0.2, 0.31, 0.34, 0.41, 0.25, 0.42, 0.32], [0.63, 0.52, 0.84, 0.71, 0.8, 0.69, 0.66, 0.59, 0.75, 0.58, 0.68], [0.85, 0.7, 0.78, 0.75, 0.8, 0.67, 0.79, 1.0, 0.84, 0.88, 0.81], [0.72, 0.6, 0.81, 0.73, 0.8, 0.68, 0.72, 0.74, 0.79, 0.7, 0.73], [0.82, 0.74, 0.86, 0.85, 0.86, 0.76, 0.79, 0.83, 0.85, 0.75, 0.81], [0.18, 0.26, 0.14, 0.15, 0.14, 0.24, 0.21, 0.17, 0.15, 0.25, 0.19], [0.78, 0.69, 0.85, 0.81, 0.85, 0.75, 0.77, 0.79, 0.83, 0.75, 0.79], [0.56, 0.39, 0.71, 0.61, 0.69, 0.49, 0.54, 0.59, 0.66, 0.5, 0.57], [0.59, 0.41, 0.7, 0.62, 0.69, 0.49, 0.55, 0.63, 0.67, 0.5, 0.58]]\n"
     ]
    }
   ],
   "source": [
    "for i in range(len(data_rf)):\n",
    "    avg = round(sum(data_rf[i])/len(data_rf[i]),2)\n",
    "    temp = list(data_rf[i])\n",
    "    temp.append(avg)\n",
    "    data_rf[i]=temp\n",
    "print(data_rf)  "
   ]
  },
  {
   "cell_type": "code",
   "execution_count": 118,
   "metadata": {},
   "outputs": [
    {
     "data": {
      "image/png": "[encoded data removed]",
      "text/plain": [
       "<Figure size 432x288 with 1 Axes>"
      ]
     },
     "metadata": {
      "needs_background": "light"
     },
     "output_type": "display_data"
    }
   ],
   "source": [
    "import matplotlib.pyplot as plt\n",
    "fig,ax = plt.subplots()\n",
    "\n",
    "\n",
    "fig.patch.set_visible(False)\n",
    "ax.axis('off')\n",
    "ax.axis('tight')\n",
    "\n",
    "the_table=ax.table(cellText=data_rf, rowLabels=row, colLabels=column,loc='center',colWidths=[0.17 for x in column])\n",
    "the_table.auto_set_font_size(False)\n",
    "the_table.set_fontsize(12)\n",
    "fig.tight_layout()\n",
    "plt.show()\n"
   ]
  },
  {
   "cell_type": "code",
   "execution_count": 119,
   "metadata": {},
   "outputs": [
    {
     "data": {
      "text/plain": [
       "KNeighborsClassifier(algorithm='auto', leaf_size=30, metric='minkowski',\n",
       "                     metric_params=None, n_jobs=None, n_neighbors=5, p=2,\n",
       "                     weights='uniform')"
      ]
     },
     "execution_count": 119,
     "metadata": {},
     "output_type": "execute_result"
    }
   ],
   "source": [
    "from sklearn.neighbors import KNeighborsClassifier\n",
    "knn=KNeighborsClassifier(n_neighbors=5,metric='minkowski',p=2)\n",
    "knn.fit(x_train,y_train)"
   ]
  },
  {
   "cell_type": "code",
   "execution_count": 120,
   "metadata": {},
   "outputs": [],
   "source": [
    "y_knn = knn.predict(x_test)"
   ]
  },
  {
   "cell_type": "code",
   "execution_count": 121,
   "metadata": {},
   "outputs": [
    {
     "data": {
      "text/plain": [
       "0.63"
      ]
     },
     "execution_count": 121,
     "metadata": {},
     "output_type": "execute_result"
    }
   ],
   "source": [
    "tp(y_test,y_knn)\n",
    "tn(y_test,y_knn)\n",
    "fp(y_test,y_knn)\n",
    "fn(y_test,y_knn)\n",
    "tpr(y_test,y_knn)\n",
    "tnr(y_test,y_knn)\n",
    "fpr(y_test,y_knn)\n",
    "fnr(y_test,y_knn)\n",
    "Recall(y_test,y_knn)\n",
    "Precision(y_test,y_knn)\n",
    "F1Score(y_test,y_knn)\n",
    "Accuracy(y_test,y_knn)\n",
    "Error(y_test,y_knn)\n",
    "BACC(y_test,y_knn)\n",
    "TSS(y_test,y_knn)\n",
    "HSS(y_test,y_knn)"
   ]
  },
  {
   "cell_type": "code",
   "execution_count": 122,
   "metadata": {},
   "outputs": [],
   "source": [
    "cv = KFold(n_splits=10,random_state=1,shuffle=False)\n",
    "scores_knn = cross_validate(knn,x_train,y_train,scoring = scoring,cv=cv)"
   ]
  },
  {
   "cell_type": "code",
   "execution_count": 123,
   "metadata": {},
   "outputs": [
    {
     "name": "stdout",
     "output_type": "stream",
     "text": [
      "{'fit_time': array([0.00851226, 0.        , 0.        , 0.        , 0.01562762,\n",
      "       0.01713562, 0.00415826, 0.        , 0.        , 0.        ]), 'score_time': array([0.10906124, 0.11591935, 0.12157798, 0.11758542, 0.10028219,\n",
      "       0.11284685, 0.1189189 , 0.0690341 , 0.07814121, 0.06717968]), 'test_tp': array([17, 14, 21, 11, 20, 18, 20, 18, 21, 22]), 'test_tn': array([38, 38, 42, 44, 40, 39, 34, 37, 38, 32]), 'test_fp': array([7, 7, 4, 6, 6, 6, 8, 5, 5, 3]), 'test_fn': array([10, 13,  4, 10,  5,  8,  9, 11,  7, 14]), 'test_tpr': array([0.63, 0.52, 0.84, 0.52, 0.8 , 0.69, 0.69, 0.62, 0.75, 0.61]), 'test_tnr': array([0.84, 0.84, 0.91, 0.88, 0.87, 0.87, 0.81, 0.88, 0.88, 0.91]), 'test_fpr': array([0.16, 0.16, 0.09, 0.12, 0.13, 0.13, 0.19, 0.12, 0.12, 0.09]), 'test_fnr': array([0.37, 0.48, 0.16, 0.48, 0.2 , 0.31, 0.31, 0.38, 0.25, 0.39]), 'test_recall': array([0.63, 0.52, 0.84, 0.52, 0.8 , 0.69, 0.69, 0.62, 0.75, 0.61]), 'test_precision': array([0.71, 0.67, 0.84, 0.65, 0.77, 0.75, 0.71, 0.78, 0.81, 0.88]), 'test_F1Score': array([0.67, 0.58, 0.84, 0.58, 0.78, 0.72, 0.7 , 0.69, 0.78, 0.72]), 'test_Accuracy': array([0.76, 0.72, 0.89, 0.77, 0.85, 0.8 , 0.76, 0.77, 0.83, 0.76]), 'test_Error': array([0.24, 0.28, 0.11, 0.23, 0.15, 0.2 , 0.24, 0.23, 0.17, 0.24]), 'test_BACC': array([0.74, 0.68, 0.88, 0.7 , 0.83, 0.78, 0.75, 0.75, 0.82, 0.76]), 'test_TSS': array([0.47, 0.36, 0.75, 0.4 , 0.67, 0.56, 0.5 , 0.5 , 0.63, 0.53]), 'test_HSS': array([0.48, 0.38, 0.75, 0.43, 0.66, 0.57, 0.5 , 0.52, 0.64, 0.52])}\n"
     ]
    }
   ],
   "source": [
    "print(scores_knn)"
   ]
  },
  {
   "cell_type": "code",
   "execution_count": 124,
   "metadata": {},
   "outputs": [],
   "source": [
    "data_knn = [value for value in scores_knn.values()]\n",
    "data_knn = data_knn[2:]"
   ]
  },
  {
   "cell_type": "code",
   "execution_count": 125,
   "metadata": {},
   "outputs": [
    {
     "name": "stdout",
     "output_type": "stream",
     "text": [
      "[array([17, 14, 21, 11, 20, 18, 20, 18, 21, 22]), array([38, 38, 42, 44, 40, 39, 34, 37, 38, 32]), array([7, 7, 4, 6, 6, 6, 8, 5, 5, 3]), array([10, 13,  4, 10,  5,  8,  9, 11,  7, 14]), array([0.63, 0.52, 0.84, 0.52, 0.8 , 0.69, 0.69, 0.62, 0.75, 0.61]), array([0.84, 0.84, 0.91, 0.88, 0.87, 0.87, 0.81, 0.88, 0.88, 0.91]), array([0.16, 0.16, 0.09, 0.12, 0.13, 0.13, 0.19, 0.12, 0.12, 0.09]), array([0.37, 0.48, 0.16, 0.48, 0.2 , 0.31, 0.31, 0.38, 0.25, 0.39]), array([0.63, 0.52, 0.84, 0.52, 0.8 , 0.69, 0.69, 0.62, 0.75, 0.61]), array([0.71, 0.67, 0.84, 0.65, 0.77, 0.75, 0.71, 0.78, 0.81, 0.88]), array([0.67, 0.58, 0.84, 0.58, 0.78, 0.72, 0.7 , 0.69, 0.78, 0.72]), array([0.76, 0.72, 0.89, 0.77, 0.85, 0.8 , 0.76, 0.77, 0.83, 0.76]), array([0.24, 0.28, 0.11, 0.23, 0.15, 0.2 , 0.24, 0.23, 0.17, 0.24]), array([0.74, 0.68, 0.88, 0.7 , 0.83, 0.78, 0.75, 0.75, 0.82, 0.76]), array([0.47, 0.36, 0.75, 0.4 , 0.67, 0.56, 0.5 , 0.5 , 0.63, 0.53]), array([0.48, 0.38, 0.75, 0.43, 0.66, 0.57, 0.5 , 0.52, 0.64, 0.52])]\n"
     ]
    }
   ],
   "source": [
    "print(data_knn)"
   ]
  },
  {
   "cell_type": "code",
   "execution_count": 126,
   "metadata": {},
   "outputs": [
    {
     "name": "stdout",
     "output_type": "stream",
     "text": [
      "[[17, 14, 21, 11, 20, 18, 20, 18, 21, 22, 18.2], [38, 38, 42, 44, 40, 39, 34, 37, 38, 32, 38.2], [7, 7, 4, 6, 6, 6, 8, 5, 5, 3, 5.7], [10, 13, 4, 10, 5, 8, 9, 11, 7, 14, 9.1], [0.63, 0.52, 0.84, 0.52, 0.8, 0.69, 0.69, 0.62, 0.75, 0.61, 0.67], [0.84, 0.84, 0.91, 0.88, 0.87, 0.87, 0.81, 0.88, 0.88, 0.91, 0.87], [0.16, 0.16, 0.09, 0.12, 0.13, 0.13, 0.19, 0.12, 0.12, 0.09, 0.13], [0.37, 0.48, 0.16, 0.48, 0.2, 0.31, 0.31, 0.38, 0.25, 0.39, 0.33], [0.63, 0.52, 0.84, 0.52, 0.8, 0.69, 0.69, 0.62, 0.75, 0.61, 0.67], [0.71, 0.67, 0.84, 0.65, 0.77, 0.75, 0.71, 0.78, 0.81, 0.88, 0.76], [0.67, 0.58, 0.84, 0.58, 0.78, 0.72, 0.7, 0.69, 0.78, 0.72, 0.71], [0.76, 0.72, 0.89, 0.77, 0.85, 0.8, 0.76, 0.77, 0.83, 0.76, 0.79], [0.24, 0.28, 0.11, 0.23, 0.15, 0.2, 0.24, 0.23, 0.17, 0.24, 0.21], [0.74, 0.68, 0.88, 0.7, 0.83, 0.78, 0.75, 0.75, 0.82, 0.76, 0.77], [0.47, 0.36, 0.75, 0.4, 0.67, 0.56, 0.5, 0.5, 0.63, 0.53, 0.54], [0.48, 0.38, 0.75, 0.43, 0.66, 0.57, 0.5, 0.52, 0.64, 0.52, 0.54]]\n"
     ]
    }
   ],
   "source": [
    "for i in range(len(data_knn)):\n",
    "    avg = round(sum(data_knn[i])/len(data_knn[i]),2)\n",
    "    temp = list(data_knn[i])\n",
    "    temp.append(avg)\n",
    "    data_knn[i]=temp\n",
    "print(data_knn) "
   ]
  },
  {
   "cell_type": "code",
   "execution_count": 127,
   "metadata": {},
   "outputs": [
    {
     "data": {
      "image/png": "[encoded data removed]",
      "text/plain": [
       "<Figure size 432x288 with 1 Axes>"
      ]
     },
     "metadata": {
      "needs_background": "light"
     },
     "output_type": "display_data"
    }
   ],
   "source": [
    "fig2,ax2 = plt.subplots()\n",
    "\n",
    "# hide axes\n",
    "fig2.patch.set_visible(False)\n",
    "ax2.axis('off')\n",
    "ax2.axis('tight')\n",
    "\n",
    "the_table2=ax2.table(cellText=data_knn, rowLabels=row, colLabels=column,loc='center',colWidths=[0.17 for x in column])\n",
    "the_table2.auto_set_font_size(False)\n",
    "the_table2.set_fontsize(12)\n",
    "fig2.tight_layout()\n",
    "plt.show()"
   ]
  },
  {
   "cell_type": "code",
   "execution_count": 128,
   "metadata": {},
   "outputs": [],
   "source": [
    "from keras.utils import to_categorical\n",
    "from keras.layers import Dense,RNN,LSTM,Activation,Dropout\n",
    "from keras.models import Sequential"
   ]
  },
  {
   "cell_type": "code",
   "execution_count": 129,
   "metadata": {},
   "outputs": [
    {
     "data": {
      "text/plain": [
       "(891, 10)"
      ]
     },
     "execution_count": 129,
     "metadata": {},
     "output_type": "execute_result"
    }
   ],
   "source": [
    "x.shape"
   ]
  },
  {
   "cell_type": "code",
   "execution_count": 130,
   "metadata": {},
   "outputs": [
    {
     "data": {
      "text/plain": [
       "(891,)"
      ]
     },
     "execution_count": 130,
     "metadata": {},
     "output_type": "execute_result"
    }
   ],
   "source": [
    "y.shape"
   ]
  },
  {
   "cell_type": "code",
   "execution_count": 131,
   "metadata": {},
   "outputs": [],
   "source": [
    "x_train = np.reshape(x_train, (x_train.shape[0],x_train.shape[1],1))"
   ]
  },
  {
   "cell_type": "code",
   "execution_count": 132,
   "metadata": {},
   "outputs": [
    {
     "name": "stdout",
     "output_type": "stream",
     "text": [
      "Train on 569 samples, validate on 143 samples\n",
      "Epoch 1/100\n",
      "569/569 [==============================] - 1s 2ms/step - loss: 0.6906 - accuracy: 0.5835 - val_loss: 0.6873 - val_accuracy: 0.6154\n",
      "Epoch 2/100\n",
      "569/569 [==============================] - 0s 93us/step - loss: 0.6880 - accuracy: 0.6098 - val_loss: 0.6849 - val_accuracy: 0.6364\n",
      "Epoch 3/100\n",
      "569/569 [==============================] - 0s 72us/step - loss: 0.6854 - accuracy: 0.6257 - val_loss: 0.6825 - val_accuracy: 0.6503\n",
      "Epoch 4/100\n",
      "569/569 [==============================] - 0s 95us/step - loss: 0.6827 - accuracy: 0.6327 - val_loss: 0.6801 - val_accuracy: 0.6434\n",
      "Epoch 5/100\n",
      "569/569 [==============================] - 0s 71us/step - loss: 0.6800 - accuracy: 0.6397 - val_loss: 0.6777 - val_accuracy: 0.6713\n",
      "Epoch 6/100\n",
      "569/569 [==============================] - 0s 99us/step - loss: 0.6773 - accuracy: 0.6397 - val_loss: 0.6752 - val_accuracy: 0.6713\n",
      "Epoch 7/100\n",
      "569/569 [==============================] - 0s 79us/step - loss: 0.6744 - accuracy: 0.6397 - val_loss: 0.6727 - val_accuracy: 0.6713\n",
      "Epoch 8/100\n",
      "569/569 [==============================] - 0s 91us/step - loss: 0.6715 - accuracy: 0.6397 - val_loss: 0.6701 - val_accuracy: 0.6643\n",
      "Epoch 9/100\n",
      "569/569 [==============================] - 0s 77us/step - loss: 0.6685 - accuracy: 0.6538 - val_loss: 0.6675 - val_accuracy: 0.6643\n",
      "Epoch 10/100\n",
      "569/569 [==============================] - 0s 90us/step - loss: 0.6653 - accuracy: 0.6573 - val_loss: 0.6647 - val_accuracy: 0.6713\n",
      "Epoch 11/100\n",
      "569/569 [==============================] - 0s 73us/step - loss: 0.6620 - accuracy: 0.6626 - val_loss: 0.6619 - val_accuracy: 0.6783\n",
      "Epoch 12/100\n",
      "569/569 [==============================] - 0s 84us/step - loss: 0.6586 - accuracy: 0.6643 - val_loss: 0.6589 - val_accuracy: 0.6713\n",
      "Epoch 13/100\n",
      "569/569 [==============================] - 0s 77us/step - loss: 0.6549 - accuracy: 0.6731 - val_loss: 0.6559 - val_accuracy: 0.6783\n",
      "Epoch 14/100\n",
      "569/569 [==============================] - 0s 94us/step - loss: 0.6510 - accuracy: 0.6801 - val_loss: 0.6527 - val_accuracy: 0.6783\n",
      "Epoch 15/100\n",
      "569/569 [==============================] - 0s 76us/step - loss: 0.6468 - accuracy: 0.6837 - val_loss: 0.6493 - val_accuracy: 0.6783\n",
      "Epoch 16/100\n",
      "569/569 [==============================] - 0s 91us/step - loss: 0.6425 - accuracy: 0.6872 - val_loss: 0.6458 - val_accuracy: 0.6853\n",
      "Epoch 17/100\n",
      "569/569 [==============================] - 0s 68us/step - loss: 0.6378 - accuracy: 0.6907 - val_loss: 0.6421 - val_accuracy: 0.6853\n",
      "Epoch 18/100\n",
      "569/569 [==============================] - 0s 74us/step - loss: 0.6328 - accuracy: 0.6907 - val_loss: 0.6383 - val_accuracy: 0.6853\n",
      "Epoch 19/100\n",
      "569/569 [==============================] - 0s 98us/step - loss: 0.6275 - accuracy: 0.6942 - val_loss: 0.6345 - val_accuracy: 0.6923\n",
      "Epoch 20/100\n",
      "569/569 [==============================] - 0s 124us/step - loss: 0.6220 - accuracy: 0.6924 - val_loss: 0.6305 - val_accuracy: 0.6923\n",
      "Epoch 21/100\n",
      "569/569 [==============================] - 0s 98us/step - loss: 0.6162 - accuracy: 0.6889 - val_loss: 0.6265 - val_accuracy: 0.6923\n",
      "Epoch 22/100\n",
      "569/569 [==============================] - 0s 101us/step - loss: 0.6102 - accuracy: 0.6889 - val_loss: 0.6227 - val_accuracy: 0.6853\n",
      "Epoch 23/100\n",
      "569/569 [==============================] - 0s 91us/step - loss: 0.6040 - accuracy: 0.6872 - val_loss: 0.6191 - val_accuracy: 0.6853\n",
      "Epoch 24/100\n",
      "569/569 [==============================] - 0s 84us/step - loss: 0.5979 - accuracy: 0.6924 - val_loss: 0.6160 - val_accuracy: 0.6853\n",
      "Epoch 25/100\n",
      "569/569 [==============================] - 0s 98us/step - loss: 0.5921 - accuracy: 0.6995 - val_loss: 0.6137 - val_accuracy: 0.6853\n",
      "Epoch 26/100\n",
      "569/569 [==============================] - 0s 92us/step - loss: 0.5867 - accuracy: 0.7012 - val_loss: 0.6124 - val_accuracy: 0.6923\n",
      "Epoch 27/100\n",
      "569/569 [==============================] - 0s 84us/step - loss: 0.5821 - accuracy: 0.7030 - val_loss: 0.6125 - val_accuracy: 0.6923\n",
      "Epoch 28/100\n",
      "569/569 [==============================] - 0s 77us/step - loss: 0.5788 - accuracy: 0.7047 - val_loss: 0.6143 - val_accuracy: 0.6993\n",
      "Epoch 29/100\n",
      "569/569 [==============================] - 0s 84us/step - loss: 0.5769 - accuracy: 0.7047 - val_loss: 0.6175 - val_accuracy: 0.7063\n",
      "Epoch 30/100\n",
      "569/569 [==============================] - 0s 92us/step - loss: 0.5766 - accuracy: 0.7030 - val_loss: 0.6215 - val_accuracy: 0.7063\n",
      "Epoch 31/100\n",
      "569/569 [==============================] - 0s 84us/step - loss: 0.5775 - accuracy: 0.7065 - val_loss: 0.6249 - val_accuracy: 0.7063\n",
      "Epoch 32/100\n",
      "569/569 [==============================] - 0s 91us/step - loss: 0.5788 - accuracy: 0.7030 - val_loss: 0.6268 - val_accuracy: 0.7063\n",
      "Epoch 33/100\n",
      "569/569 [==============================] - 0s 91us/step - loss: 0.5797 - accuracy: 0.7065 - val_loss: 0.6264 - val_accuracy: 0.7063\n",
      "Epoch 34/100\n",
      "569/569 [==============================] - 0s 85us/step - loss: 0.5795 - accuracy: 0.7100 - val_loss: 0.6238 - val_accuracy: 0.7063\n",
      "Epoch 35/100\n",
      "569/569 [==============================] - 0s 77us/step - loss: 0.5783 - accuracy: 0.7083 - val_loss: 0.6197 - val_accuracy: 0.7063\n",
      "Epoch 36/100\n",
      "569/569 [==============================] - 0s 85us/step - loss: 0.5764 - accuracy: 0.7012 - val_loss: 0.6146 - val_accuracy: 0.7063\n",
      "Epoch 37/100\n",
      "569/569 [==============================] - 0s 98us/step - loss: 0.5741 - accuracy: 0.7012 - val_loss: 0.6092 - val_accuracy: 0.7063\n",
      "Epoch 38/100\n",
      "569/569 [==============================] - 0s 81us/step - loss: 0.5719 - accuracy: 0.6960 - val_loss: 0.6040 - val_accuracy: 0.7133\n",
      "Epoch 39/100\n",
      "569/569 [==============================] - 0s 98us/step - loss: 0.5699 - accuracy: 0.6889 - val_loss: 0.5993 - val_accuracy: 0.7133\n",
      "Epoch 40/100\n",
      "569/569 [==============================] - 0s 88us/step - loss: 0.5684 - accuracy: 0.6977 - val_loss: 0.5952 - val_accuracy: 0.7203\n",
      "Epoch 41/100\n",
      "569/569 [==============================] - 0s 93us/step - loss: 0.5674 - accuracy: 0.6995 - val_loss: 0.5918 - val_accuracy: 0.6993\n",
      "Epoch 42/100\n",
      "569/569 [==============================] - 0s 91us/step - loss: 0.5667 - accuracy: 0.6942 - val_loss: 0.5890 - val_accuracy: 0.7063\n",
      "Epoch 43/100\n",
      "569/569 [==============================] - 0s 105us/step - loss: 0.5664 - accuracy: 0.6942 - val_loss: 0.5868 - val_accuracy: 0.7063\n",
      "Epoch 44/100\n",
      "569/569 [==============================] - 0s 75us/step - loss: 0.5663 - accuracy: 0.6960 - val_loss: 0.5849 - val_accuracy: 0.7063\n",
      "Epoch 45/100\n",
      "569/569 [==============================] - 0s 101us/step - loss: 0.5662 - accuracy: 0.6977 - val_loss: 0.5834 - val_accuracy: 0.6993\n",
      "Epoch 46/100\n",
      "569/569 [==============================] - 0s 98us/step - loss: 0.5661 - accuracy: 0.7012 - val_loss: 0.5820 - val_accuracy: 0.6993\n",
      "Epoch 47/100\n",
      "569/569 [==============================] - 0s 92us/step - loss: 0.5659 - accuracy: 0.6995 - val_loss: 0.5809 - val_accuracy: 0.7063\n",
      "Epoch 48/100\n",
      "569/569 [==============================] - 0s 88us/step - loss: 0.5656 - accuracy: 0.7030 - val_loss: 0.5798 - val_accuracy: 0.7063\n",
      "Epoch 49/100\n",
      "569/569 [==============================] - 0s 88us/step - loss: 0.5652 - accuracy: 0.7030 - val_loss: 0.5790 - val_accuracy: 0.7063\n",
      "Epoch 50/100\n",
      "569/569 [==============================] - 0s 88us/step - loss: 0.5647 - accuracy: 0.7030 - val_loss: 0.5782 - val_accuracy: 0.7063\n",
      "Epoch 51/100\n",
      "569/569 [==============================] - 0s 74us/step - loss: 0.5641 - accuracy: 0.7047 - val_loss: 0.5776 - val_accuracy: 0.7063\n",
      "Epoch 52/100\n",
      "569/569 [==============================] - 0s 74us/step - loss: 0.5634 - accuracy: 0.7065 - val_loss: 0.5772 - val_accuracy: 0.7063\n",
      "Epoch 53/100\n",
      "569/569 [==============================] - 0s 88us/step - loss: 0.5628 - accuracy: 0.7065 - val_loss: 0.5769 - val_accuracy: 0.7063\n",
      "Epoch 54/100\n",
      "569/569 [==============================] - 0s 88us/step - loss: 0.5621 - accuracy: 0.7065 - val_loss: 0.5768 - val_accuracy: 0.7063\n",
      "Epoch 55/100\n",
      "569/569 [==============================] - 0s 85us/step - loss: 0.5615 - accuracy: 0.7065 - val_loss: 0.5768 - val_accuracy: 0.7133\n",
      "Epoch 56/100\n",
      "569/569 [==============================] - 0s 74us/step - loss: 0.5609 - accuracy: 0.7083 - val_loss: 0.5769 - val_accuracy: 0.7133\n",
      "Epoch 57/100\n",
      "569/569 [==============================] - 0s 102us/step - loss: 0.5604 - accuracy: 0.7065 - val_loss: 0.5770 - val_accuracy: 0.7133\n"
     ]
    },
    {
     "name": "stdout",
     "output_type": "stream",
     "text": [
      "Epoch 58/100\n",
      "569/569 [==============================] - 0s 84us/step - loss: 0.5599 - accuracy: 0.7083 - val_loss: 0.5771 - val_accuracy: 0.7133\n",
      "Epoch 59/100\n",
      "569/569 [==============================] - 0s 77us/step - loss: 0.5595 - accuracy: 0.7083 - val_loss: 0.5771 - val_accuracy: 0.7133\n",
      "Epoch 60/100\n",
      "569/569 [==============================] - 0s 73us/step - loss: 0.5590 - accuracy: 0.7083 - val_loss: 0.5771 - val_accuracy: 0.7133\n",
      "Epoch 61/100\n",
      "569/569 [==============================] - 0s 78us/step - loss: 0.5585 - accuracy: 0.7065 - val_loss: 0.5768 - val_accuracy: 0.7203\n",
      "Epoch 62/100\n",
      "569/569 [==============================] - 0s 77us/step - loss: 0.5580 - accuracy: 0.7083 - val_loss: 0.5765 - val_accuracy: 0.7203\n",
      "Epoch 63/100\n",
      "569/569 [==============================] - 0s 95us/step - loss: 0.5575 - accuracy: 0.7100 - val_loss: 0.5759 - val_accuracy: 0.7203\n",
      "Epoch 64/100\n",
      "569/569 [==============================] - 0s 78us/step - loss: 0.5569 - accuracy: 0.7100 - val_loss: 0.5753 - val_accuracy: 0.7203\n",
      "Epoch 65/100\n",
      "569/569 [==============================] - 0s 98us/step - loss: 0.5563 - accuracy: 0.7100 - val_loss: 0.5745 - val_accuracy: 0.7203\n",
      "Epoch 66/100\n",
      "569/569 [==============================] - 0s 76us/step - loss: 0.5557 - accuracy: 0.7100 - val_loss: 0.5736 - val_accuracy: 0.7203\n",
      "Epoch 67/100\n",
      "569/569 [==============================] - 0s 94us/step - loss: 0.5551 - accuracy: 0.7083 - val_loss: 0.5727 - val_accuracy: 0.7203\n",
      "Epoch 68/100\n",
      "569/569 [==============================] - 0s 79us/step - loss: 0.5545 - accuracy: 0.7065 - val_loss: 0.5717 - val_accuracy: 0.7203\n",
      "Epoch 69/100\n",
      "569/569 [==============================] - 0s 95us/step - loss: 0.5539 - accuracy: 0.7065 - val_loss: 0.5707 - val_accuracy: 0.7203\n",
      "Epoch 70/100\n",
      "569/569 [==============================] - 0s 77us/step - loss: 0.5533 - accuracy: 0.7065 - val_loss: 0.5697 - val_accuracy: 0.7273\n",
      "Epoch 71/100\n",
      "569/569 [==============================] - 0s 83us/step - loss: 0.5527 - accuracy: 0.7100 - val_loss: 0.5688 - val_accuracy: 0.7203\n",
      "Epoch 72/100\n",
      "569/569 [==============================] - 0s 76us/step - loss: 0.5521 - accuracy: 0.7153 - val_loss: 0.5678 - val_accuracy: 0.7203\n",
      "Epoch 73/100\n",
      "569/569 [==============================] - 0s 76us/step - loss: 0.5515 - accuracy: 0.7153 - val_loss: 0.5668 - val_accuracy: 0.7203\n",
      "Epoch 74/100\n",
      "569/569 [==============================] - 0s 85us/step - loss: 0.5509 - accuracy: 0.7153 - val_loss: 0.5658 - val_accuracy: 0.7203\n",
      "Epoch 75/100\n",
      "569/569 [==============================] - 0s 74us/step - loss: 0.5503 - accuracy: 0.7135 - val_loss: 0.5648 - val_accuracy: 0.7203\n",
      "Epoch 76/100\n",
      "569/569 [==============================] - 0s 74us/step - loss: 0.5496 - accuracy: 0.7188 - val_loss: 0.5638 - val_accuracy: 0.7203\n",
      "Epoch 77/100\n",
      "569/569 [==============================] - 0s 84us/step - loss: 0.5490 - accuracy: 0.7188 - val_loss: 0.5628 - val_accuracy: 0.7273\n",
      "Epoch 78/100\n",
      "569/569 [==============================] - 0s 76us/step - loss: 0.5483 - accuracy: 0.7170 - val_loss: 0.5618 - val_accuracy: 0.7273\n",
      "Epoch 79/100\n",
      "569/569 [==============================] - 0s 74us/step - loss: 0.5476 - accuracy: 0.7188 - val_loss: 0.5607 - val_accuracy: 0.7273\n",
      "Epoch 80/100\n",
      "569/569 [==============================] - 0s 88us/step - loss: 0.5468 - accuracy: 0.7188 - val_loss: 0.5596 - val_accuracy: 0.7273\n",
      "Epoch 81/100\n",
      "569/569 [==============================] - 0s 74us/step - loss: 0.5461 - accuracy: 0.7170 - val_loss: 0.5585 - val_accuracy: 0.7273\n",
      "Epoch 82/100\n",
      "569/569 [==============================] - 0s 88us/step - loss: 0.5454 - accuracy: 0.7188 - val_loss: 0.5574 - val_accuracy: 0.7273\n",
      "Epoch 83/100\n",
      "569/569 [==============================] - 0s 84us/step - loss: 0.5446 - accuracy: 0.7206 - val_loss: 0.5562 - val_accuracy: 0.7273\n",
      "Epoch 84/100\n",
      "569/569 [==============================] - 0s 77us/step - loss: 0.5438 - accuracy: 0.7223 - val_loss: 0.5550 - val_accuracy: 0.7273\n",
      "Epoch 85/100\n",
      "569/569 [==============================] - 0s 73us/step - loss: 0.5431 - accuracy: 0.7206 - val_loss: 0.5538 - val_accuracy: 0.7343\n",
      "Epoch 86/100\n",
      "569/569 [==============================] - 0s 88us/step - loss: 0.5423 - accuracy: 0.7206 - val_loss: 0.5525 - val_accuracy: 0.7343\n",
      "Epoch 87/100\n",
      "569/569 [==============================] - 0s 73us/step - loss: 0.5415 - accuracy: 0.7206 - val_loss: 0.5512 - val_accuracy: 0.7343\n",
      "Epoch 88/100\n",
      "569/569 [==============================] - 0s 96us/step - loss: 0.5407 - accuracy: 0.7206 - val_loss: 0.5498 - val_accuracy: 0.7343\n",
      "Epoch 89/100\n",
      "569/569 [==============================] - 0s 76us/step - loss: 0.5399 - accuracy: 0.7241 - val_loss: 0.5485 - val_accuracy: 0.7273\n",
      "Epoch 90/100\n",
      "569/569 [==============================] - 0s 98us/step - loss: 0.5391 - accuracy: 0.7276 - val_loss: 0.5471 - val_accuracy: 0.7343\n",
      "Epoch 91/100\n",
      "569/569 [==============================] - 0s 76us/step - loss: 0.5383 - accuracy: 0.7276 - val_loss: 0.5457 - val_accuracy: 0.7343\n",
      "Epoch 92/100\n",
      "569/569 [==============================] - 0s 78us/step - loss: 0.5374 - accuracy: 0.7311 - val_loss: 0.5444 - val_accuracy: 0.7343\n",
      "Epoch 93/100\n",
      "569/569 [==============================] - 0s 68us/step - loss: 0.5366 - accuracy: 0.7329 - val_loss: 0.5431 - val_accuracy: 0.7133\n",
      "Epoch 94/100\n",
      "569/569 [==============================] - 0s 74us/step - loss: 0.5358 - accuracy: 0.7364 - val_loss: 0.5419 - val_accuracy: 0.7133\n",
      "Epoch 95/100\n",
      "569/569 [==============================] - 0s 88us/step - loss: 0.5349 - accuracy: 0.7364 - val_loss: 0.5408 - val_accuracy: 0.7133\n",
      "Epoch 96/100\n",
      "569/569 [==============================] - 0s 84us/step - loss: 0.5341 - accuracy: 0.7381 - val_loss: 0.5397 - val_accuracy: 0.7133\n",
      "Epoch 97/100\n",
      "569/569 [==============================] - 0s 72us/step - loss: 0.5332 - accuracy: 0.7364 - val_loss: 0.5387 - val_accuracy: 0.7273\n",
      "Epoch 98/100\n",
      "569/569 [==============================] - 0s 98us/step - loss: 0.5323 - accuracy: 0.7399 - val_loss: 0.5377 - val_accuracy: 0.7343\n",
      "Epoch 99/100\n",
      "569/569 [==============================] - 0s 77us/step - loss: 0.5314 - accuracy: 0.7381 - val_loss: 0.5369 - val_accuracy: 0.7343\n",
      "Epoch 100/100\n",
      "569/569 [==============================] - 0s 84us/step - loss: 0.5305 - accuracy: 0.7381 - val_loss: 0.5361 - val_accuracy: 0.7343\n"
     ]
    },
    {
     "data": {
      "text/plain": [
       "<keras.callbacks.callbacks.History at 0x1d74bb50bc8>"
      ]
     },
     "execution_count": 132,
     "metadata": {},
     "output_type": "execute_result"
    }
   ],
   "source": [
    "model = Sequential() # initializing model\n",
    "\n",
    "# input layer and LSTM layer with 50 neurons\n",
    "model.add(LSTM(units=50, return_sequences=False, input_shape=(x_train.shape[1],1)))\n",
    "# outpute layer with sigmoid activation\n",
    "model.add(Dense(1, activation='sigmoid'))\n",
    "\n",
    "# defining loss function, optimizer, metrics and then compiling model\n",
    "model.compile(loss='binary_crossentropy',optimizer='adam',metrics=['accuracy'])\n",
    "\n",
    "# training the model on training dataset\n",
    "model.fit(x_train, y_train, epochs=100, batch_size=5000,validation_split=0.2)"
   ]
  },
  {
   "cell_type": "code",
   "execution_count": 133,
   "metadata": {},
   "outputs": [],
   "source": [
    "x_test = np.reshape(x_test, (x_test.shape[0],x_test.shape[1],1))\n",
    "test_results = model.predict(x_test)\n",
    "#print(f'Test results - Loss: {test_results[0]} - Accuracy: {test_results[1]*100}%')"
   ]
  },
  {
   "cell_type": "code",
   "execution_count": 135,
   "metadata": {},
   "outputs": [
    {
     "data": {
      "text/plain": [
       "array([[0.12659882],\n",
       "       [0.08054511],\n",
       "       [0.09860588],\n",
       "       [0.6048251 ],\n",
       "       [0.2658898 ],\n",
       "       [0.43075976],\n",
       "       [0.4291093 ],\n",
       "       [0.3792658 ],\n",
       "       [0.685568  ],\n",
       "       [0.4671219 ],\n",
       "       [0.16024047],\n",
       "       [0.42576683],\n",
       "       [0.21644612],\n",
       "       [0.74285764],\n",
       "       [0.8494394 ],\n",
       "       [0.60164607],\n",
       "       [0.20450632],\n",
       "       [0.23778091],\n",
       "       [0.26455316],\n",
       "       [0.19448587],\n",
       "       [0.77344036],\n",
       "       [0.8562716 ],\n",
       "       [0.14158723],\n",
       "       [0.74185616],\n",
       "       [0.38769823],\n",
       "       [0.44661143],\n",
       "       [0.12774952],\n",
       "       [0.62428087],\n",
       "       [0.3634159 ],\n",
       "       [0.1952403 ],\n",
       "       [0.14018522],\n",
       "       [0.23046358],\n",
       "       [0.15662804],\n",
       "       [0.43206137],\n",
       "       [0.2909979 ],\n",
       "       [0.26463786],\n",
       "       [0.09873343],\n",
       "       [0.42079914],\n",
       "       [0.565482  ],\n",
       "       [0.17038527],\n",
       "       [0.20754303],\n",
       "       [0.14377418],\n",
       "       [0.12067292],\n",
       "       [0.06472361],\n",
       "       [0.70250046],\n",
       "       [0.20524788],\n",
       "       [0.11538535],\n",
       "       [0.4934005 ],\n",
       "       [0.163878  ],\n",
       "       [0.14549153],\n",
       "       [0.50654405],\n",
       "       [0.6234846 ],\n",
       "       [0.49149394],\n",
       "       [0.1528605 ],\n",
       "       [0.3399916 ],\n",
       "       [0.17731042],\n",
       "       [0.21327536],\n",
       "       [0.44407025],\n",
       "       [0.05330365],\n",
       "       [0.1148396 ],\n",
       "       [0.26374844],\n",
       "       [0.17587031],\n",
       "       [0.5795429 ],\n",
       "       [0.62240785],\n",
       "       [0.522492  ],\n",
       "       [0.17011327],\n",
       "       [0.5628669 ],\n",
       "       [0.2430914 ],\n",
       "       [0.694039  ],\n",
       "       [0.83483607],\n",
       "       [0.7146972 ],\n",
       "       [0.1100214 ],\n",
       "       [0.46806696],\n",
       "       [0.22988816],\n",
       "       [0.12772547],\n",
       "       [0.21337388],\n",
       "       [0.5262824 ],\n",
       "       [0.3120907 ],\n",
       "       [0.26902497],\n",
       "       [0.28123847],\n",
       "       [0.08896734],\n",
       "       [0.3433605 ],\n",
       "       [0.6033481 ],\n",
       "       [0.352553  ],\n",
       "       [0.19882573],\n",
       "       [0.80820143],\n",
       "       [0.78639245],\n",
       "       [0.1069409 ],\n",
       "       [0.57811075],\n",
       "       [0.3440664 ],\n",
       "       [0.5406252 ],\n",
       "       [0.13409014],\n",
       "       [0.50279105],\n",
       "       [0.6731663 ],\n",
       "       [0.1516546 ],\n",
       "       [0.13182653],\n",
       "       [0.7202601 ],\n",
       "       [0.08929277],\n",
       "       [0.11593244],\n",
       "       [0.46540284],\n",
       "       [0.06753728],\n",
       "       [0.30473366],\n",
       "       [0.13398121],\n",
       "       [0.21584818],\n",
       "       [0.2236569 ],\n",
       "       [0.5495494 ],\n",
       "       [0.53950524],\n",
       "       [0.12010249],\n",
       "       [0.44064498],\n",
       "       [0.2734028 ],\n",
       "       [0.09291256],\n",
       "       [0.8674396 ],\n",
       "       [0.25147268],\n",
       "       [0.40588716],\n",
       "       [0.42753857],\n",
       "       [0.7821225 ],\n",
       "       [0.59415156],\n",
       "       [0.8300096 ],\n",
       "       [0.08428775],\n",
       "       [0.3310451 ],\n",
       "       [0.28177425],\n",
       "       [0.27500555],\n",
       "       [0.16957022],\n",
       "       [0.21669796],\n",
       "       [0.25961477],\n",
       "       [0.29421672],\n",
       "       [0.21341531],\n",
       "       [0.1532092 ],\n",
       "       [0.55171955],\n",
       "       [0.40146902],\n",
       "       [0.76005125],\n",
       "       [0.14245594],\n",
       "       [0.35089168],\n",
       "       [0.61950845],\n",
       "       [0.13343972],\n",
       "       [0.5512542 ],\n",
       "       [0.18591647],\n",
       "       [0.6450964 ],\n",
       "       [0.25127754],\n",
       "       [0.49738252],\n",
       "       [0.59710974],\n",
       "       [0.6735036 ],\n",
       "       [0.09191506],\n",
       "       [0.62305117],\n",
       "       [0.6587239 ],\n",
       "       [0.71058357],\n",
       "       [0.32402956],\n",
       "       [0.36391205],\n",
       "       [0.7277198 ],\n",
       "       [0.17612086],\n",
       "       [0.40645733],\n",
       "       [0.7108241 ],\n",
       "       [0.4062947 ],\n",
       "       [0.26455414],\n",
       "       [0.754859  ],\n",
       "       [0.44010803],\n",
       "       [0.557611  ],\n",
       "       [0.12550032],\n",
       "       [0.6177095 ],\n",
       "       [0.7506776 ],\n",
       "       [0.15253164],\n",
       "       [0.391883  ],\n",
       "       [0.2821149 ],\n",
       "       [0.5855261 ],\n",
       "       [0.33584696],\n",
       "       [0.29652694],\n",
       "       [0.08893087],\n",
       "       [0.30353954],\n",
       "       [0.24963474],\n",
       "       [0.5262416 ],\n",
       "       [0.21729416],\n",
       "       [0.8025555 ],\n",
       "       [0.10117883],\n",
       "       [0.19614638],\n",
       "       [0.75368804],\n",
       "       [0.08280704],\n",
       "       [0.66725254],\n",
       "       [0.36287585],\n",
       "       [0.57999676]], dtype=float32)"
      ]
     },
     "execution_count": 135,
     "metadata": {},
     "output_type": "execute_result"
    }
   ],
   "source": [
    "test_results"
   ]
  },
  {
   "cell_type": "code",
   "execution_count": 146,
   "metadata": {},
   "outputs": [],
   "source": [
    "test_results=np.array(test_results)\n",
    "for i in range(len(test_results)):\n",
    "    if test_results[[i]]<0.5:\n",
    "        test_results[i]=0\n",
    "    else:\n",
    "        test_results[i]=1"
   ]
  },
  {
   "cell_type": "code",
   "execution_count": 151,
   "metadata": {},
   "outputs": [
    {
     "data": {
      "text/plain": [
       "37"
      ]
     },
     "execution_count": 151,
     "metadata": {},
     "output_type": "execute_result"
    }
   ],
   "source": [
    "tp(y_test,test_results)"
   ]
  },
  {
   "cell_type": "code",
   "execution_count": 152,
   "metadata": {},
   "outputs": [
    {
     "data": {
      "text/plain": [
       "90"
      ]
     },
     "execution_count": 152,
     "metadata": {},
     "output_type": "execute_result"
    }
   ],
   "source": [
    "tn(y_test,test_results)"
   ]
  },
  {
   "cell_type": "code",
   "execution_count": 153,
   "metadata": {},
   "outputs": [
    {
     "data": {
      "text/plain": [
       "20"
      ]
     },
     "execution_count": 153,
     "metadata": {},
     "output_type": "execute_result"
    }
   ],
   "source": [
    "fp(y_test,test_results)"
   ]
  },
  {
   "cell_type": "code",
   "execution_count": 154,
   "metadata": {},
   "outputs": [
    {
     "data": {
      "text/plain": [
       "32"
      ]
     },
     "execution_count": 154,
     "metadata": {},
     "output_type": "execute_result"
    }
   ],
   "source": [
    "fn(y_test,test_results)"
   ]
  },
  {
   "cell_type": "code",
   "execution_count": 155,
   "metadata": {},
   "outputs": [
    {
     "data": {
      "text/plain": [
       "0.54"
      ]
     },
     "execution_count": 155,
     "metadata": {},
     "output_type": "execute_result"
    }
   ],
   "source": [
    "tpr(y_test,test_results)"
   ]
  },
  {
   "cell_type": "code",
   "execution_count": 156,
   "metadata": {},
   "outputs": [
    {
     "data": {
      "text/plain": [
       "0.82"
      ]
     },
     "execution_count": 156,
     "metadata": {},
     "output_type": "execute_result"
    }
   ],
   "source": [
    "tnr(y_test,test_results)"
   ]
  },
  {
   "cell_type": "code",
   "execution_count": 157,
   "metadata": {},
   "outputs": [
    {
     "data": {
      "text/plain": [
       "0.18"
      ]
     },
     "execution_count": 157,
     "metadata": {},
     "output_type": "execute_result"
    }
   ],
   "source": [
    "fpr(y_test,test_results)"
   ]
  },
  {
   "cell_type": "code",
   "execution_count": 158,
   "metadata": {},
   "outputs": [
    {
     "data": {
      "text/plain": [
       "0.46"
      ]
     },
     "execution_count": 158,
     "metadata": {},
     "output_type": "execute_result"
    }
   ],
   "source": [
    "fnr(y_test,test_results)"
   ]
  },
  {
   "cell_type": "code",
   "execution_count": 159,
   "metadata": {},
   "outputs": [
    {
     "data": {
      "text/plain": [
       "0.54"
      ]
     },
     "execution_count": 159,
     "metadata": {},
     "output_type": "execute_result"
    }
   ],
   "source": [
    "Recall(y_test,test_results)"
   ]
  },
  {
   "cell_type": "code",
   "execution_count": 160,
   "metadata": {},
   "outputs": [
    {
     "data": {
      "text/plain": [
       "0.65"
      ]
     },
     "execution_count": 160,
     "metadata": {},
     "output_type": "execute_result"
    }
   ],
   "source": [
    "Precision(y_test,test_results)"
   ]
  },
  {
   "cell_type": "code",
   "execution_count": 161,
   "metadata": {},
   "outputs": [
    {
     "data": {
      "text/plain": [
       "0.59"
      ]
     },
     "execution_count": 161,
     "metadata": {},
     "output_type": "execute_result"
    }
   ],
   "source": [
    "F1Score(y_test,test_results)"
   ]
  },
  {
   "cell_type": "code",
   "execution_count": 162,
   "metadata": {},
   "outputs": [
    {
     "data": {
      "text/plain": [
       "0.71"
      ]
     },
     "execution_count": 162,
     "metadata": {},
     "output_type": "execute_result"
    }
   ],
   "source": [
    "Accuracy(y_test,test_results)"
   ]
  },
  {
   "cell_type": "code",
   "execution_count": 163,
   "metadata": {},
   "outputs": [
    {
     "data": {
      "text/plain": [
       "0.29"
      ]
     },
     "execution_count": 163,
     "metadata": {},
     "output_type": "execute_result"
    }
   ],
   "source": [
    "Error(y_test,test_results)"
   ]
  },
  {
   "cell_type": "code",
   "execution_count": 164,
   "metadata": {},
   "outputs": [
    {
     "data": {
      "text/plain": [
       "0.68"
      ]
     },
     "execution_count": 164,
     "metadata": {},
     "output_type": "execute_result"
    }
   ],
   "source": [
    "BACC(y_test,test_results)\n"
   ]
  },
  {
   "cell_type": "code",
   "execution_count": 165,
   "metadata": {},
   "outputs": [
    {
     "data": {
      "text/plain": [
       "0.35"
      ]
     },
     "execution_count": 165,
     "metadata": {},
     "output_type": "execute_result"
    }
   ],
   "source": [
    "TSS(y_test,test_results)"
   ]
  },
  {
   "cell_type": "code",
   "execution_count": 166,
   "metadata": {},
   "outputs": [
    {
     "data": {
      "text/plain": [
       "0.37"
      ]
     },
     "execution_count": 166,
     "metadata": {},
     "output_type": "execute_result"
    }
   ],
   "source": [
    "HSS(y_test,test_results)"
   ]
  },
  {
   "cell_type": "code",
   "execution_count": 167,
   "metadata": {},
   "outputs": [],
   "source": [
    "metrics=[[18.3,18.2,37],[39.3,38.2,90],[4.6,5.7,20],[9.0,9.1,32],[0.68,0.67,0.54],[0.9,0.87,0.82],[0.1,0.13,0.18],[0.32,0.33,0.76],[0.68,0.67,0.54],[0.81,0.76,0.65],[0.73,0.71,0.59],[0.81,0.79,0.71],[0.19,0.21,0.29],[0.79,0.77,0.68],[0.57,0.54,0.35],[0.58,0.54,0.37]]"
   ]
  },
  {
   "cell_type": "code",
   "execution_count": 168,
   "metadata": {},
   "outputs": [],
   "source": [
    "column1 = ['Random Forest','KNN','LSTM']\n",
    "row1 = ['TP','TN','FP','FN','TPR','TNR','FPR','FNR','Recall','Precision','F1 Score','Accuracy','Error','BACC','TSS','HSS']"
   ]
  },
  {
   "cell_type": "code",
   "execution_count": 169,
   "metadata": {},
   "outputs": [
    {
     "data": {
      "image/png": "[encoded data removed]",
      "text/plain": [
       "<Figure size 432x288 with 1 Axes>"
      ]
     },
     "metadata": {
      "needs_background": "light"
     },
     "output_type": "display_data"
    }
   ],
   "source": [
    "fig3,ax3 = plt.subplots()\n",
    "\n",
    "# hide axes\n",
    "fig3.patch.set_visible(False)\n",
    "ax3.axis('off')\n",
    "ax3.axis('tight')\n",
    "\n",
    "the_table3=ax3.table(cellText=metrics, rowLabels=row1, colLabels=column1,loc='center',colWidths=[0.17 for x in column])\n",
    "the_table3.auto_set_font_size(False)\n",
    "the_table3.set_fontsize(12)\n",
    "fig3.tight_layout()\n",
    "plt.show()"
   ]
  },
  {
   "cell_type": "code",
   "execution_count": null,
   "metadata": {},
   "outputs": [],
   "source": []
  }
 ],
 "metadata": {
  "kernelspec": {
   "display_name": "Python 3",
   "language": "python",
   "name": "python3"
  },
  "language_info": {
   "codemirror_mode": {
    "name": "ipython",
    "version": 3
   },
   "file_extension": ".py",
   "mimetype": "text/x-python",
   "name": "python",
   "nbconvert_exporter": "python",
   "pygments_lexer": "ipython3",
   "version": "3.7.4"
  }
 },
 "nbformat": 4,
 "nbformat_minor": 2
}
